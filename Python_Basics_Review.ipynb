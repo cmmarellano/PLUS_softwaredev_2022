{
 "cells": [
  {
   "cell_type": "markdown",
   "id": "de94b8cf",
   "metadata": {},
   "source": [
    "# Python: Basic Functionality (Review)\n",
    "- Notes 25.04.2022\n",
    "- Practice: Software Development\n",
    "- by: C. Arellano"
   ]
  },
  {
   "cell_type": "markdown",
   "id": "b64d1c84",
   "metadata": {},
   "source": [
    "## Comments"
   ]
  },
  {
   "cell_type": "code",
   "execution_count": 4,
   "id": "2961b353",
   "metadata": {},
   "outputs": [],
   "source": [
    "# single line comment"
   ]
  },
  {
   "cell_type": "code",
   "execution_count": 2,
   "id": "e8951bae",
   "metadata": {
    "collapsed": true,
    "jupyter": {
     "outputs_hidden": true
    }
   },
   "outputs": [
    {
     "data": {
      "text/plain": [
       "'\\n3 quotes\\nmulti line comment\\n'"
      ]
     },
     "execution_count": 2,
     "metadata": {},
     "output_type": "execute_result"
    }
   ],
   "source": [
    "'''\n",
    "3 quotes\n",
    "multi line comment\n",
    "'''"
   ]
  },
  {
   "cell_type": "code",
   "execution_count": 1,
   "id": "85ffe25f",
   "metadata": {
    "collapsed": true,
    "jupyter": {
     "outputs_hidden": true
    }
   },
   "outputs": [
    {
     "data": {
      "text/plain": [
       "'comment'"
      ]
     },
     "execution_count": 1,
     "metadata": {},
     "output_type": "execute_result"
    }
   ],
   "source": [
    "('comment')"
   ]
  },
  {
   "cell_type": "markdown",
   "id": "7a479990",
   "metadata": {},
   "source": [
    "## Variables"
   ]
  },
  {
   "cell_type": "code",
   "execution_count": 7,
   "id": "312f447f",
   "metadata": {},
   "outputs": [],
   "source": [
    "var_ = 24\n",
    "var_str =  'my string' \n",
    "var_float = 45.7\n",
    "var_bool = True"
   ]
  },
  {
   "cell_type": "markdown",
   "id": "2529f53a",
   "metadata": {},
   "source": [
    "## Checking data type: type()"
   ]
  },
  {
   "cell_type": "code",
   "execution_count": 12,
   "id": "97419cd4",
   "metadata": {},
   "outputs": [
    {
     "data": {
      "text/plain": [
       "bool"
      ]
     },
     "execution_count": 12,
     "metadata": {},
     "output_type": "execute_result"
    }
   ],
   "source": [
    "type(var_)\n",
    "type(var_str)\n",
    "type(var_float)\n",
    "type(var_bool)"
   ]
  },
  {
   "cell_type": "markdown",
   "id": "fd6caaac",
   "metadata": {},
   "source": [
    "### Data Type: String"
   ]
  },
  {
   "cell_type": "code",
   "execution_count": 55,
   "id": "b9ac03dc",
   "metadata": {},
   "outputs": [
    {
     "name": "stdout",
     "output_type": "stream",
     "text": [
      "apples\n"
     ]
    }
   ],
   "source": [
    "str1 = 'apples'\n",
    "print(str1)"
   ]
  },
  {
   "cell_type": "code",
   "execution_count": 57,
   "id": "ec676ae5",
   "metadata": {},
   "outputs": [
    {
     "name": "stdout",
     "output_type": "stream",
     "text": [
      "line1 and line2\n"
     ]
    }
   ],
   "source": [
    "str2= ('line1'\n",
    "       ' and '\n",
    "      'line2')\n",
    "print(str2)"
   ]
  },
  {
   "cell_type": "markdown",
   "id": "dbf2c051",
   "metadata": {},
   "source": [
    "### Data Type: Integer, Float"
   ]
  },
  {
   "cell_type": "code",
   "execution_count": 23,
   "id": "e23901a5",
   "metadata": {},
   "outputs": [
    {
     "name": "stdout",
     "output_type": "stream",
     "text": [
      " x: 4.5\n"
     ]
    },
    {
     "data": {
      "text/plain": [
       "float"
      ]
     },
     "execution_count": 23,
     "metadata": {},
     "output_type": "execute_result"
    }
   ],
   "source": [
    "x = 4.5\n",
    "print(f\" x: {x}\")\n",
    "type(x)"
   ]
  },
  {
   "cell_type": "code",
   "execution_count": 21,
   "id": "8d47d4df",
   "metadata": {},
   "outputs": [
    {
     "name": "stdout",
     "output_type": "stream",
     "text": [
      " round(x): 4\n"
     ]
    }
   ],
   "source": [
    "x = round(x)\n",
    "print(f\" round(x): {x}\")"
   ]
  },
  {
   "cell_type": "code",
   "execution_count": 22,
   "id": "14cb5485",
   "metadata": {},
   "outputs": [
    {
     "name": "stdout",
     "output_type": "stream",
     "text": [
      " round(x, 3): 4\n"
     ]
    }
   ],
   "source": [
    "x = round(x, 3)\n",
    "print(f\" round(x, 3): {x}\")"
   ]
  },
  {
   "cell_type": "markdown",
   "id": "70161f32",
   "metadata": {},
   "source": [
    "### Data Type: List [ ]\n",
    "- changeable"
   ]
  },
  {
   "cell_type": "code",
   "execution_count": 26,
   "id": "0e9d7ec8",
   "metadata": {},
   "outputs": [
    {
     "name": "stdout",
     "output_type": "stream",
     "text": [
      "['apples', 'oranges', 12]\n"
     ]
    },
    {
     "data": {
      "text/plain": [
       "list"
      ]
     },
     "execution_count": 26,
     "metadata": {},
     "output_type": "execute_result"
    }
   ],
   "source": [
    "list_1 = ['apples', 'oranges', 12]\n",
    "print(list_1)\n",
    "type(list_1)"
   ]
  },
  {
   "cell_type": "code",
   "execution_count": 63,
   "id": "3bcf5427",
   "metadata": {},
   "outputs": [
    {
     "name": "stdout",
     "output_type": "stream",
     "text": [
      "['apples', 'oranges', 3.5]\n"
     ]
    }
   ],
   "source": [
    "#changing list item 3, index 2\n",
    "\n",
    "list_1[2] = 3.5  # 2 is index\n",
    "print(list_1)"
   ]
  },
  {
   "cell_type": "markdown",
   "id": "5bcd6660",
   "metadata": {},
   "source": [
    "### Data Type: Tuple ()\n",
    "- unchangeable\n",
    "- cant append new value"
   ]
  },
  {
   "cell_type": "code",
   "execution_count": 31,
   "id": "510dbbdc",
   "metadata": {},
   "outputs": [
    {
     "name": "stdout",
     "output_type": "stream",
     "text": [
      "('apples', 'oranges', 12)\n"
     ]
    },
    {
     "data": {
      "text/plain": [
       "tuple"
      ]
     },
     "execution_count": 31,
     "metadata": {},
     "output_type": "execute_result"
    }
   ],
   "source": [
    "tuple_1 = ('apples', 'oranges', 12)\n",
    "print(tuple_1)\n",
    "type(tuple_1)"
   ]
  },
  {
   "cell_type": "code",
   "execution_count": null,
   "id": "66c26949",
   "metadata": {},
   "outputs": [],
   "source": [
    "#changing list item 3, index 2"
   ]
  },
  {
   "cell_type": "markdown",
   "id": "5bcba010",
   "metadata": {},
   "source": [
    "### Data Type: Dictionary {}\n",
    "- written in __key:value__ pairs"
   ]
  },
  {
   "cell_type": "code",
   "execution_count": 34,
   "id": "14c4f5a5",
   "metadata": {},
   "outputs": [
    {
     "name": "stdout",
     "output_type": "stream",
     "text": [
      "{'name': 'Jupyter', 'style': 'Lab', 'version': 3.3}\n"
     ]
    },
    {
     "data": {
      "text/plain": [
       "dict"
      ]
     },
     "execution_count": 34,
     "metadata": {},
     "output_type": "execute_result"
    }
   ],
   "source": [
    "dict_1 = {\n",
    "    'name' : 'Jupyter',\n",
    "    'style': 'Lab',\n",
    "    'version': 3.3\n",
    "}\n",
    "print(dict_1)\n",
    "type(dict_1)"
   ]
  },
  {
   "cell_type": "markdown",
   "id": "7f5816e5",
   "metadata": {},
   "source": [
    "### Initialize variables\n",
    "- create empty objects, class/type is given"
   ]
  },
  {
   "cell_type": "code",
   "execution_count": 36,
   "id": "0739da78",
   "metadata": {},
   "outputs": [
    {
     "name": "stdout",
     "output_type": "stream",
     "text": [
      "<class 'int'>\n",
      "<class 'list'>\n"
     ]
    }
   ],
   "source": [
    "int_0 = int()\n",
    "list_0 = []\n",
    "\n",
    "print(type(int_0))\n",
    "print(type(list_0))"
   ]
  },
  {
   "cell_type": "markdown",
   "id": "e8b03af8",
   "metadata": {},
   "source": [
    "### Indentation\n",
    "- 4 spaces or tab (dont mix)"
   ]
  },
  {
   "cell_type": "code",
   "execution_count": 37,
   "id": "4a5c2d11",
   "metadata": {},
   "outputs": [
    {
     "name": "stdout",
     "output_type": "stream",
     "text": [
      "True\n"
     ]
    }
   ],
   "source": [
    "if(True):\n",
    "    print('True')\n",
    "else:\n",
    "    print('False')"
   ]
  },
  {
   "cell_type": "markdown",
   "id": "dd5879cd",
   "metadata": {},
   "source": [
    "### Loops: if (elif) else"
   ]
  },
  {
   "cell_type": "code",
   "execution_count": 38,
   "id": "dc1a54a4",
   "metadata": {},
   "outputs": [
    {
     "name": "stdout",
     "output_type": "stream",
     "text": [
      "True\n"
     ]
    }
   ],
   "source": [
    "x = True\n",
    "if x == True:\n",
    "    print('True')\n",
    "elif x == 'other thing':\n",
    "    print('uh oh')\n",
    "elif x == True:\n",
    "    print('True !!!!')\n",
    "else:\n",
    "    print('False')"
   ]
  },
  {
   "cell_type": "markdown",
   "id": "8dd203ba",
   "metadata": {},
   "source": [
    "### Loops: For"
   ]
  },
  {
   "cell_type": "code",
   "execution_count": 40,
   "id": "7c5c726d",
   "metadata": {},
   "outputs": [
    {
     "name": "stdout",
     "output_type": "stream",
     "text": [
      "['this is a thing', 345, 5.356, True, None, {'key': 'value'}]\n"
     ]
    }
   ],
   "source": [
    "test_list = ['this is a thing', 345, 5.356, True, None, {'key':'value'}]\n",
    "print(test_list)"
   ]
  },
  {
   "cell_type": "code",
   "execution_count": 41,
   "id": "c5875639",
   "metadata": {},
   "outputs": [
    {
     "name": "stdout",
     "output_type": "stream",
     "text": [
      "this is a thing\n",
      "345\n",
      "5.356\n",
      "True\n",
      "None\n",
      "{'key': 'value'}\n"
     ]
    }
   ],
   "source": [
    "for item in test_list:\n",
    "    print(item)"
   ]
  },
  {
   "cell_type": "code",
   "execution_count": 42,
   "id": "1769785d",
   "metadata": {},
   "outputs": [
    {
     "name": "stdout",
     "output_type": "stream",
     "text": [
      "this is a thing this is a thing\n",
      "345 345\n",
      "5.356 5.356\n",
      "True True\n",
      "None None\n",
      "{'key': 'value'} {'key': 'value'}\n"
     ]
    }
   ],
   "source": [
    "for item in test_list:\n",
    "    print(item, item)"
   ]
  },
  {
   "cell_type": "markdown",
   "id": "4bec2b67",
   "metadata": {},
   "source": [
    "### Loops: While\n",
    "- like a for loop, __based on a condition__\n",
    "- will continue looping as long as the condition is __FALSE__"
   ]
  },
  {
   "cell_type": "code",
   "execution_count": 43,
   "id": "6ad0dda0",
   "metadata": {},
   "outputs": [],
   "source": [
    "a = 10"
   ]
  },
  {
   "cell_type": "code",
   "execution_count": 47,
   "id": "141da36c",
   "metadata": {},
   "outputs": [
    {
     "name": "stdout",
     "output_type": "stream",
     "text": [
      "10\n",
      "11\n",
      "12\n",
      "13\n",
      "14\n",
      "15\n",
      "16\n",
      "17\n",
      "18\n",
      "19\n"
     ]
    }
   ],
   "source": [
    "while a < 20:\n",
    "    print(a)\n",
    "    a = a + 1"
   ]
  },
  {
   "cell_type": "markdown",
   "id": "ac175f57",
   "metadata": {},
   "source": [
    "# Functions"
   ]
  },
  {
   "cell_type": "code",
   "execution_count": 46,
   "id": "58754fd9",
   "metadata": {},
   "outputs": [],
   "source": [
    "def my_fn(x):\n",
    "    print('Hello World')\n",
    "    print(x)"
   ]
  },
  {
   "cell_type": "code",
   "execution_count": 48,
   "id": "ccdde7c1",
   "metadata": {},
   "outputs": [
    {
     "name": "stdout",
     "output_type": "stream",
     "text": [
      "Hello World\n",
      "lorem ipsum\n"
     ]
    }
   ],
   "source": [
    "my_fn('lorem ipsum')"
   ]
  },
  {
   "cell_type": "code",
   "execution_count": 49,
   "id": "353b0c9f",
   "metadata": {},
   "outputs": [
    {
     "name": "stdout",
     "output_type": "stream",
     "text": [
      "Hello World\n",
      "58\n"
     ]
    }
   ],
   "source": [
    "my_fn(58)"
   ]
  },
  {
   "cell_type": "markdown",
   "id": "63fc2588",
   "metadata": {},
   "source": [
    "### Style\n",
    "- indentation: 4 spaces\n",
    "- lines no longer than 80chars (readability)\n",
    "- PEP ( Style guide)"
   ]
  },
  {
   "cell_type": "code",
   "execution_count": 50,
   "id": "97a18c2e",
   "metadata": {},
   "outputs": [],
   "source": [
    "import os\n",
    "import sys \n",
    "\n",
    "# imports should usually be on separate lines"
   ]
  },
  {
   "cell_type": "code",
   "execution_count": 53,
   "id": "65e9f895",
   "metadata": {},
   "outputs": [],
   "source": [
    "import os, sys\n",
    "\n",
    "# no"
   ]
  },
  {
   "cell_type": "code",
   "execution_count": null,
   "id": "44eb59ad",
   "metadata": {},
   "outputs": [],
   "source": []
  }
 ],
 "metadata": {
  "kernelspec": {
   "display_name": "Python 3",
   "language": "python",
   "name": "python3"
  },
  "language_info": {
   "codemirror_mode": {
    "name": "ipython",
    "version": 3
   },
   "file_extension": ".py",
   "mimetype": "text/x-python",
   "name": "python",
   "nbconvert_exporter": "python",
   "pygments_lexer": "ipython3",
   "version": "3.7.11"
  }
 },
 "nbformat": 4,
 "nbformat_minor": 5
}
